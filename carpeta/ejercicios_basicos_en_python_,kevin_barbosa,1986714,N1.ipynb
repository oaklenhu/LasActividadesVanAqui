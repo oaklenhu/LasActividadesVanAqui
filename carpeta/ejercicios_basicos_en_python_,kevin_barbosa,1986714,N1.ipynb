{
  "nbformat": 4,
  "nbformat_minor": 0,
  "metadata": {
    "colab": {
      "name": "ejercicios basicos en python ,kevin barbosa,1986714,N1.ipynb",
      "provenance": [],
      "collapsed_sections": [],
      "authorship_tag": "ABX9TyNcWfuwoy8w7yndO8QUxaVw",
      "include_colab_link": true
    },
    "kernelspec": {
      "name": "python3",
      "display_name": "Python 3"
    },
    "language_info": {
      "name": "python"
    }
  },
  "cells": [
    {
      "cell_type": "markdown",
      "metadata": {
        "id": "view-in-github",
        "colab_type": "text"
      },
      "source": [
        "<a href=\"https://colab.research.google.com/github/oaklenhu/LasActividadesVanAqui/blob/main/carpeta/ejercicios_basicos_en_python_%2Ckevin_barbosa%2C1986714%2CN1.ipynb\" target=\"_parent\"><img src=\"https://colab.research.google.com/assets/colab-badge.svg\" alt=\"Open In Colab\"/></a>"
      ]
    },
    {
      "cell_type": "markdown",
      "source": [
        "IA_ejercico 1_kevinbarbosa_1986714_N1"
      ],
      "metadata": {
        "id": "HifzucbpFuzX"
      }
    },
    {
      "cell_type": "code",
      "execution_count": null,
      "metadata": {
        "colab": {
          "base_uri": "https://localhost:8080/"
        },
        "id": "F1d_nMX8xgCl",
        "outputId": "cbabaf80-c795-41c3-8e88-ff10da8f4ae5"
      },
      "outputs": [
        {
          "output_type": "stream",
          "name": "stdout",
          "text": [
            "Ingrese su nombre: juan\n",
            "Hola juan\n"
          ]
        }
      ],
      "source": [
        "nombre=str(input(\"Ingrese su nombre: \"))\n",
        "if nombre!=\"Ana\" and nombre!=\"Juan\" and nombre!=\"Pedro\":\n",
        "  print(\"Hola\",nombre)"
      ]
    },
    {
      "cell_type": "markdown",
      "source": [
        "IA_ejercico2_kevinbarbosa_1986714_N1"
      ],
      "metadata": {
        "id": "HGoBd9jkFkpo"
      }
    },
    {
      "cell_type": "code",
      "source": [
        "lista=[2,4,5,7,4,7,8]\n",
        "print(\"El último elemento es: \",lista[-1])\n",
        "print(\"Lista original: \")\n",
        "print(lista)\n",
        "print(\"Lista revertida: \")\n",
        "contador = len(lista) - 1\n",
        "nuevaLista = []\n",
        "while (contador >= 0):\n",
        "  nuevaLista.append(lista[contador])\n",
        "  contador = contador - 1\n",
        "print(nuevaLista)"
      ],
      "metadata": {
        "colab": {
          "base_uri": "https://localhost:8080/"
        },
        "id": "dIHZNfkdFkSL",
        "outputId": "6072d50e-ef97-45a9-fb98-4827186c254d"
      },
      "execution_count": 5,
      "outputs": [
        {
          "output_type": "stream",
          "name": "stdout",
          "text": [
            "El último elemento es:  8\n",
            "Lista original: \n",
            "[2, 4, 5, 7, 4, 7, 8]\n",
            "Lista revertida: \n",
            "[8, 7, 4, 7, 5, 4, 2]\n"
          ]
        }
      ]
    },
    {
      "cell_type": "markdown",
      "source": [
        "IA_ejercicio 3_kevinbarbosa_1986714_N1"
      ],
      "metadata": {
        "id": "huGU7NucGYeR"
      }
    },
    {
      "cell_type": "code",
      "source": [
        "lista=[\"Hola\",\"a\",\"todos\",\"esto\",\"es\",\"un\",\"marco\"]\n",
        "print(\"***\\n* \",lista[0],\" * \\n* \",lista[1],\"    \\n \",lista[2],\"\\n \",lista[3],\" \\n \",lista[4], \"   \\n \",lista[5],\"   \\n \",lista[6],\"\\n****\"   )"
      ],
      "metadata": {
        "colab": {
          "base_uri": "https://localhost:8080/"
        },
        "id": "psx16sOwGXfM",
        "outputId": "17e26a28-739a-4eda-dae7-f48f71c9829a"
      },
      "execution_count": 6,
      "outputs": [
        {
          "output_type": "stream",
          "name": "stdout",
          "text": [
            "***\n",
            "*  Hola  * \n",
            "*  a     \n",
            "  todos \n",
            "  esto  \n",
            "  es    \n",
            "  un    \n",
            "  marco \n",
            "****\n"
          ]
        }
      ]
    }
  ]
}